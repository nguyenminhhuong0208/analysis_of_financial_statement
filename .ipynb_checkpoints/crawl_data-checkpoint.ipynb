{
 "cells": [
  {
   "cell_type": "code",
   "execution_count": 1,
   "metadata": {},
   "outputs": [],
   "source": [
    "from selenium import webdriver\n",
    "from selenium.common import NoSuchElementException\n",
    "from selenium.webdriver.common.by import By\n",
    "from selenium.webdriver.edge.service import Service\n",
    "from selenium.webdriver.support.ui import WebDriverWait\n",
    "from selenium.webdriver.support import expected_conditions as EC\n",
    "from selenium.webdriver.edge.options import Options\n",
    "from webdriver_manager.microsoft import EdgeChromiumDriverManager  # To download Edge WebDriver\n",
    "from selenium.common.exceptions import NoSuchElementException\n",
    "from itertools import chain\n",
    "import pandas as pd\n",
    "import os\n",
    "import time\n",
    "import numpy as np"
   ]
  },
  {
   "cell_type": "code",
   "execution_count": 2,
   "metadata": {},
   "outputs": [],
   "source": [
    "#cấu hình trình duyệt web\n",
    "edge_options = Options()\n",
    "edge_options.add_argument('--disable-blink-features=AutomationControlled')\n",
    "edge_options.add_argument(\"--disable-extensions\")\n",
    "edge_options.add_argument(\"--no-sandbox\")\n",
    "# edge_options.add_argument(\"--headless\")"
   ]
  },
  {
   "cell_type": "code",
   "execution_count": 3,
   "metadata": {},
   "outputs": [],
   "source": [
    "# Khởi tạo WebDriver\n",
    "service = Service(EdgeChromiumDriverManager().install())\n",
    "driver = webdriver.Edge(service=service, options=edge_options)"
   ]
  },
  {
   "cell_type": "code",
   "execution_count": 5,
   "metadata": {},
   "outputs": [],
   "source": [
    "def getURL(ori_url):\n",
    "    # Đường dẫn đến msedgedriver\n",
    "    driver_path = \"C:/WebDriver/msedgedriver.exe\"  # Thay đổi đường dẫn theo nơi bạn đặt msedgedriver\n",
    "    \n",
    "    # Cấu hình dịch vụ cho Microsoft Edge\n",
    "    service = Service(executable_path=driver_path)\n",
    "    \n",
    "    # Khởi tạo driver cho Microsoft Edge\n",
    "    driver = webdriver.Edge(service=service)\n",
    "    \n",
    "    try:\n",
    "        # Mở đường dẫn\n",
    "        driver.get(ori_url)\n",
    "        time.sleep(2)  # Đợi trang tải xong\n",
    "\n",
    "        # Tìm phần tử cần click bằng XPath\n",
    "        element_to_click1 = driver.find_element(By.XPATH, '//*[@id=\"pagewrap\"]/div[1]/div[3]/div[1]/div[1]/div[2]/div[2]/div/label/i')\n",
    "        \n",
    "        # Click vào phần tử\n",
    "        element_to_click1.click()\n",
    "        time.sleep(2)\n",
    "        \n",
    "        element_to_click2 = driver.find_element(By.XPATH, '//*[@id=\"pagewrap\"]/div[1]/div[3]/div[1]/div[1]/div[2]/div[2]/div/div/div[5]')\n",
    "        element_to_click2.click()\n",
    "        \n",
    "        element_to_click2 = driver.find_element(By.XPATH, '//*[@id=\"pagewrap\"]/div[1]/div[3]/div[1]/div[1]/div[2]/div[2]/div/div/div[6]')\n",
    "        element_to_click2.click()\n",
    "\n",
    "        element_to_click2 = driver.find_element(By.XPATH, '//*[@id=\"pagewrap\"]/div[1]/div[3]/div[1]/div[2]/p')\n",
    "        element_to_click2.click()\n",
    "\n",
    "        # Đợi một chút để quan sát kết quả\n",
    "        time.sleep(5)\n",
    "\n",
    "    except Exception as e:\n",
    "        print(f\"Lỗi: {e}\")\n",
    "    finally:\n",
    "        # Đóng trình duyệt sau khi hoàn thành\n",
    "        driver.quit()\n"
   ]
  },
  {
   "cell_type": "code",
   "execution_count": 6,
   "metadata": {},
   "outputs": [],
   "source": [
    "ori_url=\"https://cafef.vn/du-lieu/cong-bo-thong-tin.chn\"\n",
    "getURL(ori_url)"
   ]
  },
  {
   "cell_type": "code",
   "execution_count": null,
   "metadata": {},
   "outputs": [],
   "source": []
  }
 ],
 "metadata": {
  "kernelspec": {
   "display_name": "Python 3 (ipykernel)",
   "language": "python",
   "name": "python3"
  },
  "language_info": {
   "codemirror_mode": {
    "name": "ipython",
    "version": 3
   },
   "file_extension": ".py",
   "mimetype": "text/x-python",
   "name": "python",
   "nbconvert_exporter": "python",
   "pygments_lexer": "ipython3",
   "version": "3.12.7"
  }
 },
 "nbformat": 4,
 "nbformat_minor": 4
}
